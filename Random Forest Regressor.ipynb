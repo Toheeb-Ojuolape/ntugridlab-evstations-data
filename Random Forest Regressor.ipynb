{
 "cells": [
  {
   "cell_type": "code",
   "execution_count": 1,
   "id": "fa1a1c0d-1d1a-496d-98ab-2a34991af7e0",
   "metadata": {},
   "outputs": [],
   "source": [
    "# Implementing the Random Forest Regressor model"
   ]
  },
  {
   "cell_type": "code",
   "execution_count": null,
   "id": "fd464b82-e529-4c66-a68c-cff7b07dcb88",
   "metadata": {},
   "outputs": [],
   "source": [
    "pip install scikit-learn"
   ]
  },
  {
   "cell_type": "code",
   "execution_count": 2,
   "id": "2f4a5895-69ed-4cc5-a2cc-e7733ccf7115",
   "metadata": {},
   "outputs": [],
   "source": [
    "import pandas as pd\n",
    "import os\n",
    "from sklearn.model_selection import train_test_split\n",
    "from sklearn.preprocessing import StandardScaler\n",
    "from sklearn.ensemble import RandomForestRegressor\n",
    "from sklearn.metrics import mean_squared_error, mean_absolute_error\n",
    "import matplotlib.pyplot as plt\n",
    "from IPython.display import HTML, display"
   ]
  },
  {
   "cell_type": "code",
   "execution_count": 6,
   "id": "462afe7a-647b-462a-adcc-a28ce475f529",
   "metadata": {},
   "outputs": [],
   "source": [
    "directory = './caltech_model_data'"
   ]
  },
  {
   "cell_type": "code",
   "execution_count": null,
   "id": "ae5138c4-00e7-4606-92bd-2c66cfe96bc4",
   "metadata": {},
   "outputs": [],
   "source": [
    "# Load and combine all CSV files into a single dataframe with stationID"
   ]
  },
  {
   "cell_type": "code",
   "execution_count": 7,
   "id": "84b4b747-a80a-4cdc-81d1-a63f6a744709",
   "metadata": {},
   "outputs": [],
   "source": [
    "combined_data = pd.DataFrame()"
   ]
  },
  {
   "cell_type": "code",
   "execution_count": 8,
   "id": "e2f4b905-0963-4737-a641-4e1fd4b9a473",
   "metadata": {},
   "outputs": [],
   "source": [
    "for filename in os.listdir(directory):\n",
    "    if filename.endswith('.csv'):\n",
    "        filepath = os.path.join(directory, filename)\n",
    "        # Extract stationID from filename (assuming filename contains stationID, e.g., 'station123.csv')\n",
    "        station_id = filename.split('.')[0]  # Modify this line based on actual filename format\n",
    "        # Load the data\n",
    "        data = pd.read_csv(filepath)\n",
    "        # Add stationID column\n",
    "        data['stationID'] = station_id\n",
    "        combined_data = pd.concat([combined_data, data], axis=0)"
   ]
  },
  {
   "cell_type": "code",
   "execution_count": 7,
   "id": "a3ce9b8a-f5e9-4195-bbeb-c7b3e541578e",
   "metadata": {},
   "outputs": [],
   "source": [
    "# Convert the 'Month' column to datetime format and set it as the index"
   ]
  },
  {
   "cell_type": "code",
   "execution_count": 9,
   "id": "60356f81-0619-4031-bdad-a5bbf3444e91",
   "metadata": {},
   "outputs": [],
   "source": [
    "combined_data['Month'] = pd.to_datetime(combined_data['month'])\n",
    "combined_data.set_index('Month', inplace=True)"
   ]
  },
  {
   "cell_type": "code",
   "execution_count": 9,
   "id": "24f7ec7d-a436-494f-8d5d-08a57622d2f5",
   "metadata": {},
   "outputs": [],
   "source": [
    "# Load the weather data"
   ]
  },
  {
   "cell_type": "code",
   "execution_count": 10,
   "id": "854d6242-38c4-4ecd-847a-5582d82391e3",
   "metadata": {},
   "outputs": [],
   "source": [
    "weather_data = pd.read_csv('./caltech_weather_monthly_data/monthly_weather_data.csv')"
   ]
  },
  {
   "cell_type": "code",
   "execution_count": 11,
   "id": "1624af55-f649-4f97-8e15-737397905ec7",
   "metadata": {},
   "outputs": [],
   "source": [
    "# Convert the date column in weather data to datetime format and set it as the index"
   ]
  },
  {
   "cell_type": "code",
   "execution_count": 12,
   "id": "d9dcddad-0d3a-4ac7-88ca-c19e8f145ee1",
   "metadata": {},
   "outputs": [],
   "source": [
    "weather_data['Date'] = pd.to_datetime(weather_data['month'])\n",
    "weather_data.set_index('Date', inplace=True)"
   ]
  },
  {
   "cell_type": "code",
   "execution_count": 13,
   "id": "53d9090b-f9f0-4f72-be14-bd6a8a7447ea",
   "metadata": {},
   "outputs": [],
   "source": [
    "# Merge the charging station data with the weather data"
   ]
  },
  {
   "cell_type": "code",
   "execution_count": 15,
   "id": "47e55e38-01f2-4546-9a28-814e2e16dba6",
   "metadata": {},
   "outputs": [],
   "source": [
    "merged_data = combined_data.merge(weather_data, left_index=True, right_index=True, how='left')"
   ]
  },
  {
   "cell_type": "code",
   "execution_count": null,
   "id": "81d7d878-939d-4aee-ae53-416aedfd3fd7",
   "metadata": {},
   "outputs": [],
   "source": [
    "# Handle missing values"
   ]
  },
  {
   "cell_type": "code",
   "execution_count": 16,
   "id": "d92e717f-3eec-45a9-90fe-3419dd2c8e11",
   "metadata": {},
   "outputs": [],
   "source": [
    "merged_data.fillna(method='ffill', inplace=True)\n",
    "merged_data.dropna(inplace=True)"
   ]
  },
  {
   "cell_type": "code",
   "execution_count": null,
   "id": "d4937269-ab1a-4b52-a915-49bdd95c7d26",
   "metadata": {},
   "outputs": [],
   "source": [
    "# Select the features and target variable"
   ]
  },
  {
   "cell_type": "code",
   "execution_count": 17,
   "id": "a701d430-010d-42e3-9233-e1cc45d4f029",
   "metadata": {},
   "outputs": [
    {
     "name": "stdout",
     "output_type": "stream",
     "text": [
      "            AvgHumidity_x  AvgHumidity_y  AvgPrecipitation_x  \\\n",
      "Month                                                          \n",
      "2018-05-01      56.451613      56.451613            0.006855   \n",
      "2018-05-01      56.451613      56.451613            0.006855   \n",
      "2018-05-01      56.451613      56.451613            0.006855   \n",
      "2018-05-01      56.451613      56.451613            0.006855   \n",
      "2018-05-01      56.451613      56.451613            0.006855   \n",
      "...                   ...            ...                 ...   \n",
      "2019-03-01      52.427419      52.427419            0.095565   \n",
      "2019-03-01      52.427419      52.427419            0.095565   \n",
      "2019-03-01      52.427419      52.427419            0.095565   \n",
      "2019-03-01      52.427419      52.427419            0.095565   \n",
      "2019-03-01      52.427419      52.427419            0.095565   \n",
      "\n",
      "            AvgPrecipitation_y  AvgTemp_x  AvgTemp_y  AvgWindSpeed_x  \\\n",
      "Month                                                                  \n",
      "2018-05-01            0.006855  18.290323  18.290323        9.504032   \n",
      "2018-05-01            0.006855  18.290323  18.290323        9.504032   \n",
      "2018-05-01            0.006855  18.290323  18.290323        9.504032   \n",
      "2018-05-01            0.006855  18.290323  18.290323        9.504032   \n",
      "2018-05-01            0.006855  18.290323  18.290323        9.504032   \n",
      "...                        ...        ...        ...             ...   \n",
      "2019-03-01            0.095565  14.290323  14.290323        7.491935   \n",
      "2019-03-01            0.095565  14.290323  14.290323        7.491935   \n",
      "2019-03-01            0.095565  14.290323  14.290323        7.491935   \n",
      "2019-03-01            0.095565  14.290323  14.290323        7.491935   \n",
      "2019-03-01            0.095565  14.290323  14.290323        7.491935   \n",
      "\n",
      "            AvgWindSpeed_y  MaxTemp_x  MaxTemp_y  MinTemp_x  MinTemp_y  \n",
      "Month                                                                   \n",
      "2018-05-01        9.504032         32         32         11         11  \n",
      "2018-05-01        9.504032         32         32         11         11  \n",
      "2018-05-01        9.504032         32         32         11         11  \n",
      "2018-05-01        9.504032         32         32         11         11  \n",
      "2018-05-01        9.504032         32         32         11         11  \n",
      "...                    ...        ...        ...        ...        ...  \n",
      "2019-03-01        7.491935         28         28          7          7  \n",
      "2019-03-01        7.491935         28         28          7          7  \n",
      "2019-03-01        7.491935         28         28          7          7  \n",
      "2019-03-01        7.491935         28         28          7          7  \n",
      "2019-03-01        7.491935         28         28          7          7  \n",
      "\n",
      "[568 rows x 12 columns]\n"
     ]
    }
   ],
   "source": [
    "features = merged_data.columns.difference(['kWhDelivered', 'stationID','siteID', 'timezone','spaceID','month_x', 'Date', 'Month', 'month_y'])\n",
    "target =  'kWhDelivered'\n",
    "\n",
    "# Create feature and target datasets\n",
    "X = merged_data[features]\n",
    "y = merged_data[target]\n",
    "\n",
    "print(merged_data[features])"
   ]
  },
  {
   "cell_type": "code",
   "execution_count": 88,
   "id": "c7bef803-0819-4499-9c81-4acdd47a25fe",
   "metadata": {},
   "outputs": [],
   "source": [
    "# Split data into training and testing sets"
   ]
  },
  {
   "cell_type": "code",
   "execution_count": 18,
   "id": "a62b6643-a8c0-4fe6-b84d-9c8caca6d781",
   "metadata": {},
   "outputs": [],
   "source": [
    "X_train, X_test, y_train, y_test = train_test_split(X, y, test_size=0.2, shuffle=False)"
   ]
  },
  {
   "cell_type": "code",
   "execution_count": 74,
   "id": "707a7055-e076-472f-9cf2-8b5d83ad3c71",
   "metadata": {},
   "outputs": [],
   "source": [
    "# Scale the features"
   ]
  },
  {
   "cell_type": "code",
   "execution_count": 19,
   "id": "05122d66-859b-4b6b-bf74-89e9f7397634",
   "metadata": {},
   "outputs": [],
   "source": [
    "scaler = StandardScaler()\n",
    "X_train_scaled = scaler.fit_transform(X_train)\n",
    "X_test_scaled = scaler.transform(X_test)"
   ]
  },
  {
   "cell_type": "code",
   "execution_count": null,
   "id": "73edf53d-f8a0-491f-86a0-3e74f93c3b2c",
   "metadata": {},
   "outputs": [],
   "source": [
    "# Train a RandomForest model (as an example)"
   ]
  },
  {
   "cell_type": "code",
   "execution_count": 20,
   "id": "85c19ede-c20b-45b3-b7fe-910174e4749f",
   "metadata": {},
   "outputs": [
    {
     "data": {
      "text/html": [
       "<style>#sk-container-id-1 {color: black;}#sk-container-id-1 pre{padding: 0;}#sk-container-id-1 div.sk-toggleable {background-color: white;}#sk-container-id-1 label.sk-toggleable__label {cursor: pointer;display: block;width: 100%;margin-bottom: 0;padding: 0.3em;box-sizing: border-box;text-align: center;}#sk-container-id-1 label.sk-toggleable__label-arrow:before {content: \"▸\";float: left;margin-right: 0.25em;color: #696969;}#sk-container-id-1 label.sk-toggleable__label-arrow:hover:before {color: black;}#sk-container-id-1 div.sk-estimator:hover label.sk-toggleable__label-arrow:before {color: black;}#sk-container-id-1 div.sk-toggleable__content {max-height: 0;max-width: 0;overflow: hidden;text-align: left;background-color: #f0f8ff;}#sk-container-id-1 div.sk-toggleable__content pre {margin: 0.2em;color: black;border-radius: 0.25em;background-color: #f0f8ff;}#sk-container-id-1 input.sk-toggleable__control:checked~div.sk-toggleable__content {max-height: 200px;max-width: 100%;overflow: auto;}#sk-container-id-1 input.sk-toggleable__control:checked~label.sk-toggleable__label-arrow:before {content: \"▾\";}#sk-container-id-1 div.sk-estimator input.sk-toggleable__control:checked~label.sk-toggleable__label {background-color: #d4ebff;}#sk-container-id-1 div.sk-label input.sk-toggleable__control:checked~label.sk-toggleable__label {background-color: #d4ebff;}#sk-container-id-1 input.sk-hidden--visually {border: 0;clip: rect(1px 1px 1px 1px);clip: rect(1px, 1px, 1px, 1px);height: 1px;margin: -1px;overflow: hidden;padding: 0;position: absolute;width: 1px;}#sk-container-id-1 div.sk-estimator {font-family: monospace;background-color: #f0f8ff;border: 1px dotted black;border-radius: 0.25em;box-sizing: border-box;margin-bottom: 0.5em;}#sk-container-id-1 div.sk-estimator:hover {background-color: #d4ebff;}#sk-container-id-1 div.sk-parallel-item::after {content: \"\";width: 100%;border-bottom: 1px solid gray;flex-grow: 1;}#sk-container-id-1 div.sk-label:hover label.sk-toggleable__label {background-color: #d4ebff;}#sk-container-id-1 div.sk-serial::before {content: \"\";position: absolute;border-left: 1px solid gray;box-sizing: border-box;top: 0;bottom: 0;left: 50%;z-index: 0;}#sk-container-id-1 div.sk-serial {display: flex;flex-direction: column;align-items: center;background-color: white;padding-right: 0.2em;padding-left: 0.2em;position: relative;}#sk-container-id-1 div.sk-item {position: relative;z-index: 1;}#sk-container-id-1 div.sk-parallel {display: flex;align-items: stretch;justify-content: center;background-color: white;position: relative;}#sk-container-id-1 div.sk-item::before, #sk-container-id-1 div.sk-parallel-item::before {content: \"\";position: absolute;border-left: 1px solid gray;box-sizing: border-box;top: 0;bottom: 0;left: 50%;z-index: -1;}#sk-container-id-1 div.sk-parallel-item {display: flex;flex-direction: column;z-index: 1;position: relative;background-color: white;}#sk-container-id-1 div.sk-parallel-item:first-child::after {align-self: flex-end;width: 50%;}#sk-container-id-1 div.sk-parallel-item:last-child::after {align-self: flex-start;width: 50%;}#sk-container-id-1 div.sk-parallel-item:only-child::after {width: 0;}#sk-container-id-1 div.sk-dashed-wrapped {border: 1px dashed gray;margin: 0 0.4em 0.5em 0.4em;box-sizing: border-box;padding-bottom: 0.4em;background-color: white;}#sk-container-id-1 div.sk-label label {font-family: monospace;font-weight: bold;display: inline-block;line-height: 1.2em;}#sk-container-id-1 div.sk-label-container {text-align: center;}#sk-container-id-1 div.sk-container {/* jupyter's `normalize.less` sets `[hidden] { display: none; }` but bootstrap.min.css set `[hidden] { display: none !important; }` so we also need the `!important` here to be able to override the default hidden behavior on the sphinx rendered scikit-learn.org. See: https://github.com/scikit-learn/scikit-learn/issues/21755 */display: inline-block !important;position: relative;}#sk-container-id-1 div.sk-text-repr-fallback {display: none;}</style><div id=\"sk-container-id-1\" class=\"sk-top-container\"><div class=\"sk-text-repr-fallback\"><pre>RandomForestRegressor(random_state=42)</pre><b>In a Jupyter environment, please rerun this cell to show the HTML representation or trust the notebook. <br />On GitHub, the HTML representation is unable to render, please try loading this page with nbviewer.org.</b></div><div class=\"sk-container\" hidden><div class=\"sk-item\"><div class=\"sk-estimator sk-toggleable\"><input class=\"sk-toggleable__control sk-hidden--visually\" id=\"sk-estimator-id-1\" type=\"checkbox\" checked><label for=\"sk-estimator-id-1\" class=\"sk-toggleable__label sk-toggleable__label-arrow\">RandomForestRegressor</label><div class=\"sk-toggleable__content\"><pre>RandomForestRegressor(random_state=42)</pre></div></div></div></div></div>"
      ],
      "text/plain": [
       "RandomForestRegressor(random_state=42)"
      ]
     },
     "execution_count": 20,
     "metadata": {},
     "output_type": "execute_result"
    }
   ],
   "source": [
    "model = RandomForestRegressor(n_estimators=100, random_state=42)\n",
    "model.fit(X_train_scaled, y_train)"
   ]
  },
  {
   "cell_type": "code",
   "execution_count": null,
   "id": "f0951864-db37-420a-b81f-5b4900eea7e9",
   "metadata": {},
   "outputs": [],
   "source": [
    "# Make predictions"
   ]
  },
  {
   "cell_type": "code",
   "execution_count": 21,
   "id": "6443e318-d606-4013-abe9-9e44c17d0bcd",
   "metadata": {},
   "outputs": [],
   "source": [
    "predictions = model.predict(X_test_scaled)"
   ]
  },
  {
   "cell_type": "code",
   "execution_count": null,
   "id": "3a419115-eddc-43e1-8071-00d653d6effc",
   "metadata": {},
   "outputs": [],
   "source": [
    "# Evaluate the model"
   ]
  },
  {
   "cell_type": "code",
   "execution_count": 22,
   "id": "479d6b4f-c884-4ae4-8e7e-7c543367d8ea",
   "metadata": {},
   "outputs": [
    {
     "name": "stdout",
     "output_type": "stream",
     "text": [
      "Mean Squared Error: 17135.988825751178\n",
      "Mean Absolute Error: 103.39390670304633\n"
     ]
    }
   ],
   "source": [
    "mse = mean_squared_error(y_test, predictions)\n",
    "mae = mean_absolute_error(y_test, predictions)\n",
    "print(f'Mean Squared Error: {mse}')\n",
    "print(f'Mean Absolute Error: {mae}')"
   ]
  },
  {
   "cell_type": "code",
   "execution_count": 114,
   "id": "7907dbf1-213e-45cc-8d63-3a50466382db",
   "metadata": {},
   "outputs": [
    {
     "data": {
      "image/png": "[encoded data removed]",
      "text/plain": [
       "<Figure size 1200x600 with 1 Axes>"
      ]
     },
     "metadata": {},
     "output_type": "display_data"
    }
   ],
   "source": [
    "importances = model.feature_importances_\n",
    "feature_names = X.columns\n",
    "\n",
    "# Create a DataFrame for plotting\n",
    "importance_df = pd.DataFrame({\n",
    "    'Feature': feature_names,\n",
    "    'Importance': importances\n",
    "})\n",
    "\n",
    "# Sort the DataFrame by importance\n",
    "importance_df = importance_df.sort_values(by='Importance', ascending=False)\n",
    "\n",
    "# Plot feature importances\n",
    "plt.figure(figsize=(12, 6))\n",
    "plt.barh(importance_df['Feature'], importance_df['Importance'], color='b')\n",
    "plt.xlabel('Importance')\n",
    "plt.ylabel('Feature')\n",
    "plt.title('Feature Importance in Random Forest Model')\n",
    "plt.gca().invert_yaxis()  # Invert y-axis to have the most important feature at the top\n",
    "plt.grid(True)\n",
    "plt.show()\n"
   ]
  },
  {
   "cell_type": "code",
   "execution_count": 23,
   "id": "04b325fc-65cc-4f5c-963a-6f5e1aeafe26",
   "metadata": {},
   "outputs": [
    {
     "data": {
      "text/html": [
       "<h2>Model Parameters:</h2>"
      ],
      "text/plain": [
       "<IPython.core.display.HTML object>"
      ]
     },
     "metadata": {},
     "output_type": "display_data"
    },
    {
     "name": "stdout",
     "output_type": "stream",
     "text": [
      "{'bootstrap': True, 'ccp_alpha': 0.0, 'criterion': 'squared_error', 'max_depth': None, 'max_features': 1.0, 'max_leaf_nodes': None, 'max_samples': None, 'min_impurity_decrease': 0.0, 'min_samples_leaf': 1, 'min_samples_split': 2, 'min_weight_fraction_leaf': 0.0, 'n_estimators': 100, 'n_jobs': None, 'oob_score': False, 'random_state': 42, 'verbose': 0, 'warm_start': False}\n"
     ]
    }
   ],
   "source": [
    "display(HTML(\"\"\"<h2>Model Parameters:</h2>\"\"\"))\n",
    "print(model.get_params())"
   ]
  },
  {
   "cell_type": "code",
   "execution_count": null,
   "id": "41c5097a-c5aa-4d51-a781-3b7c3fc8988d",
   "metadata": {},
   "outputs": [],
   "source": []
  }
 ],
 "metadata": {
  "kernelspec": {
   "display_name": "Python 3 (ipykernel)",
   "language": "python",
   "name": "python3"
  },
  "language_info": {
   "codemirror_mode": {
    "name": "ipython",
    "version": 3
   },
   "file_extension": ".py",
   "mimetype": "text/x-python",
   "name": "python",
   "nbconvert_exporter": "python",
   "pygments_lexer": "ipython3",
   "version": "3.10.5"
  }
 },
 "nbformat": 4,
 "nbformat_minor": 5
}
